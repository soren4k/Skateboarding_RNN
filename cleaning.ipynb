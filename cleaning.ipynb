{
 "cells": [
  {
   "cell_type": "code",
   "execution_count": 3,
   "id": "ba8d9217-81e9-4d1a-abea-a63103476411",
   "metadata": {},
   "outputs": [],
   "source": [
    "### Data cleaning###"
   ]
  },
  {
   "cell_type": "code",
   "execution_count": 4,
   "id": "9870de9b-9d5c-48ae-9fc4-d161fc1a7987",
   "metadata": {},
   "outputs": [],
   "source": [
    "import re\n",
    "\n",
    "def clean_text(text):\n",
    "    # Lowercase the text\n",
    "    text = text.lower()\n",
    "    \n",
    "    # Remove HTML tags using a regular expression\n",
    "    text = re.sub(r'<[^>]+>', '', text)\n",
    "    \n",
    "    # Replace multiple whitespace characters with a single space\n",
    "    text = re.sub(r'\\s+', ' ', text)\n",
    "    \n",
    "    # Remove leading/trailing spaces\n",
    "    return text.strip()\n"
   ]
  },
  {
   "cell_type": "code",
   "execution_count": 5,
   "id": "3fec4124-63fc-411e-9bae-71e39876453f",
   "metadata": {},
   "outputs": [
    {
     "name": "stdout",
     "output_type": "stream",
     "text": [
      "Total lines processed: 15747\n",
      "Cleaned data saved to: freeskate_cleaned.txt\n"
     ]
    }
   ],
   "source": [
    "input_file = \"freeskate_raw.txt\"      # Your uncleaned text file\n",
    "output_file = \"freeskate_cleaned.txt\"  # File to save cleaned text\n",
    "\n",
    "total_lines_processed = 0\n",
    "\n",
    "with open(input_file, \"r\", encoding=\"utf-8\") as infile, open(output_file, \"w\", encoding=\"utf-8\") as outfile:\n",
    "    for line in infile:\n",
    "        total_lines_processed += 1\n",
    "        \n",
    "        cleaned_line = clean_text(line)\n",
    "        \n",
    "        if cleaned_line:\n",
    "            outfile.write(cleaned_line + \"\\n\")\n",
    "\n",
    "print(f\"Total lines processed: {total_lines_processed}\")\n",
    "print(f\"Cleaned data saved to: {output_file}\")\n"
   ]
  },
  {
   "cell_type": "code",
   "execution_count": 6,
   "id": "cdcb288c-f8c6-4ed5-95f0-9705449ce451",
   "metadata": {
    "collapsed": true,
    "jupyter": {
     "outputs_hidden": true
    }
   },
   "outputs": [
    {
     "name": "stdout",
     "output_type": "stream",
     "text": [
      "Total lines processed: 15747\n",
      "Cleaned data saved to: freeskate_cleaned.txt\n"
     ]
    }
   ],
   "source": [
    "input_file = \"freeskate_raw.txt\"      \n",
    "output_file = \"freeskate_cleaned.txt\"  \n",
    "\n",
    "total_lines_processed = 0\n",
    "\n",
    "with open(input_file, \"r\", encoding=\"utf-8\") as infile, open(output_file, \"w\", encoding=\"utf-8\") as outfile:\n",
    "    for line in infile:\n",
    "        total_lines_processed += 1\n",
    "        \n",
    "        cleaned_line = clean_text(line)\n",
    "        \n",
    "        if cleaned_line:\n",
    "            outfile.write(cleaned_line + \"\\n\")\n",
    "\n",
    "print(f\"Total lines processed: {total_lines_processed}\")\n",
    "print(f\"Cleaned data saved to: {output_file}\")\n"
   ]
  },
  {
   "cell_type": "code",
   "execution_count": 7,
   "id": "1a89a16d-bf03-4d1d-946c-a8888ba4a9be",
   "metadata": {},
   "outputs": [
    {
     "name": "stdout",
     "output_type": "stream",
     "text": [
      "Data combined successfully. Total characters: 3254354\n"
     ]
    }
   ],
   "source": [
    "# ================================\n",
    "# Section 1: Combine the Data Files\n",
    "# ================================\n",
    "\n",
    "thrasher_file = \"thrasher_cleaned.txt\"\n",
    "freeskate_file = \"freeskate_cleaned.txt\"\n",
    "\n",
    "combined_file = \"combined_cleaned.txt\"\n",
    "\n",
    "with open(thrasher_file, \"r\", encoding=\"utf-8\") as f:\n",
    "    thrasher_data = f.read()\n",
    "\n",
    "with open(freeskate_file, \"r\", encoding=\"utf-8\") as f:\n",
    "    freeskate_data = f.read()\n",
    "\n",
    "combined_data = thrasher_data + \"\\n\" + freeskate_data\n",
    "\n",
    "with open(combined_file, \"w\", encoding=\"utf-8\") as f:\n",
    "    f.write(combined_data)\n",
    "\n",
    "print(f\"Data combined successfully. Total characters: {len(combined_data)}\")\n"
   ]
  },
  {
   "cell_type": "code",
   "execution_count": null,
   "id": "c4ad585d-7b77-415e-aaa6-25a9fed6bdd3",
   "metadata": {},
   "outputs": [],
   "source": []
  }
 ],
 "metadata": {
  "kernelspec": {
   "display_name": "Python 3 (ipykernel)",
   "language": "python",
   "name": "python3"
  },
  "language_info": {
   "codemirror_mode": {
    "name": "ipython",
    "version": 3
   },
   "file_extension": ".py",
   "mimetype": "text/x-python",
   "name": "python",
   "nbconvert_exporter": "python",
   "pygments_lexer": "ipython3",
   "version": "3.11.9"
  }
 },
 "nbformat": 4,
 "nbformat_minor": 5
}
