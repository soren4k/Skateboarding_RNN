{
 "cells": [
  {
   "cell_type": "code",
   "execution_count": 13,
   "id": "f90bea38-d4f3-4044-bc9e-5117521a2107",
   "metadata": {},
   "outputs": [
    {
     "name": "stdout",
     "output_type": "stream",
     "text": [
      "Libraries imported and base URLs set.\n",
      "Pages to scrape: ['https://www.thrashermagazine.com/tag/interviews/', 'https://www.thrashermagazine.com/tag/interviews/page/1/', 'https://www.thrashermagazine.com/tag/interviews/page/2/', 'https://www.thrashermagazine.com/tag/interviews/page/3/', 'https://www.thrashermagazine.com/tag/interviews/page/4/', 'https://www.thrashermagazine.com/tag/interviews/page/5/']\n"
     ]
    }
   ],
   "source": [
    "\n",
    "import requests\n",
    "from bs4 import BeautifulSoup\n",
    "import time\n",
    "\n",
    "BASE_URL = \"https://www.thrashermagazine.com\"\n",
    "\n",
    "page_urls = [f\"{BASE_URL}/tag/interviews/\"]\n",
    "page_urls += [f\"{BASE_URL}/tag/interviews/page/{i}/\" for i in range(1, 6)]\n",
    "\n",
    "print(\"Libraries imported and base URLs set.\")\n",
    "print(\"Pages to scrape:\", page_urls)\n"
   ]
  },
  {
   "cell_type": "code",
   "execution_count": 14,
   "id": "3880b75e-682c-4bbc-8185-70d32c0c4f62",
   "metadata": {},
   "outputs": [
    {
     "name": "stdout",
     "output_type": "stream",
     "text": [
      "Processing index page: https://www.thrashermagazine.com/tag/interviews/\n",
      "Processing index page: https://www.thrashermagazine.com/tag/interviews/page/1/\n",
      "Processing index page: https://www.thrashermagazine.com/tag/interviews/page/2/\n",
      "Processing index page: https://www.thrashermagazine.com/tag/interviews/page/3/\n",
      "Processing index page: https://www.thrashermagazine.com/tag/interviews/page/4/\n",
      "Processing index page: https://www.thrashermagazine.com/tag/interviews/page/5/\n",
      "Total interview links found: 60\n",
      "['https://www.thrashermagazine.com/articles/the-follow-up-alexey-krasniy/', 'https://www.thrashermagazine.com/articles/chris-russell-breaks-out-interview/', 'https://www.thrashermagazine.com/articles/the-follow-up-adam-davies/', 'https://www.thrashermagazine.com/articles/vitoria-mendonca-on-heelflips-homies-and-going-pro/', 'https://www.thrashermagazine.com/articles/spanky-five-greats/']\n"
     ]
    }
   ],
   "source": [
    "\n",
    "interview_links = []\n",
    "\n",
    "for url in page_urls:\n",
    "    print(f\"Processing index page: {url}\")\n",
    "    response = requests.get(url)\n",
    "    if response.status_code != 200:\n",
    "        print(f\"  Failed to fetch {url} with status code: {response.status_code}\")\n",
    "        continue\n",
    "\n",
    "    soup = BeautifulSoup(response.text, 'html.parser')\n",
    "    \n",
    "    post_list = soup.find('ul', class_='post-list')\n",
    "    if not post_list:\n",
    "        print(\"  No post list found on the page.\")\n",
    "        continue\n",
    "    \n",
    "    for li in post_list.find_all('li', class_='post-list-item'):\n",
    "        a_tag = li.find('a', class_='post-title-link')\n",
    "        if a_tag and a_tag.has_attr('href'):\n",
    "            href = a_tag['href']\n",
    "            if not href.startswith(\"http\"):\n",
    "                href = BASE_URL + href\n",
    "            if href not in interview_links:\n",
    "                interview_links.append(href)\n",
    "    \n",
    "    time.sleep(1)\n",
    "\n",
    "print(f\"Total interview links found: {len(interview_links)}\")\n",
    "print(interview_links[:5])\n"
   ]
  },
  {
   "cell_type": "code",
   "execution_count": 15,
   "id": "dca1517d-62dc-4099-99e5-857d30f06f52",
   "metadata": {},
   "outputs": [
    {
     "name": "stdout",
     "output_type": "stream",
     "text": [
      "Scraping interview 1/60: https://www.thrashermagazine.com/articles/the-follow-up-alexey-krasniy/\n",
      "Scraping interview 2/60: https://www.thrashermagazine.com/articles/chris-russell-breaks-out-interview/\n",
      "Scraping interview 3/60: https://www.thrashermagazine.com/articles/the-follow-up-adam-davies/\n",
      "Scraping interview 4/60: https://www.thrashermagazine.com/articles/vitoria-mendonca-on-heelflips-homies-and-going-pro/\n",
      "Scraping interview 5/60: https://www.thrashermagazine.com/articles/spanky-five-greats/\n",
      "Scraping interview 6/60: https://www.thrashermagazine.com/articles/kevin-baekkel-s-gangreen-interview/\n",
      "Scraping interview 7/60: https://www.thrashermagazine.com/articles/kevin-baekkel-interview/\n",
      "Scraping interview 8/60: https://www.thrashermagazine.com/articles/sebo-walker-interview/\n",
      "Scraping interview 9/60: https://www.thrashermagazine.com/articles/windsor-james-interview/\n",
      "Scraping interview 10/60: https://www.thrashermagazine.com/articles/justin-figgy-figueroa-interview/\n",
      "Scraping interview 11/60: https://www.thrashermagazine.com/articles/twenty-years-of-jamie-thomas/\n",
      "Scraping interview 12/60: https://www.thrashermagazine.com/articles/chris-gregson-interview/\n",
      "Scraping interview 13/60: https://www.thrashermagazine.com/articles/max-geronzi-interview/\n",
      "Scraping interview 14/60: https://www.thrashermagazine.com/articles/chris-wimer-interview/\n",
      "Scraping interview 15/60: https://www.thrashermagazine.com/articles/tyler-surrey-interview/\n",
      "Scraping interview 16/60: https://www.thrashermagazine.com/articles/emmet-duffy-interview/\n",
      "Scraping interview 17/60: https://www.thrashermagazine.com/articles/magazine/chico-brenes/\n",
      "Scraping interview 18/60: https://www.thrashermagazine.com/articles/magazine/lewis-marnell/\n",
      "Scraping interview 19/60: https://www.thrashermagazine.com/articles/magazine/emmanuel-guzman/\n",
      "Scraping interview 20/60: https://www.thrashermagazine.com/articles/two-dudes-named-aaron/\n",
      "Scraping interview 21/60: https://www.thrashermagazine.com/articles/magazine/truman-hooker/\n",
      "Scraping interview 22/60: https://www.thrashermagazine.com/articles/david-gravette/\n",
      "Scraping interview 23/60: https://www.thrashermagazine.com/articles/magazine/james-brockman/\n",
      "Scraping interview 24/60: https://www.thrashermagazine.com/articles/magazine/mark-appleyard-interview/\n",
      "Scraping interview 25/60: https://www.thrashermagazine.com/articles/bro-spotlight-robbie-brockel/\n",
      "Scraping interview 26/60: https://www.thrashermagazine.com/articles/magazine/caswell-berry/\n",
      "Scraping interview 27/60: https://www.thrashermagazine.com/articles/magazine/geoff-rowley/\n",
      "Scraping interview 28/60: https://www.thrashermagazine.com/articles/magazine/bob-burnquist/\n",
      "Scraping interview 29/60: https://www.thrashermagazine.com/articles/magazine/david-gonzalez/\n",
      "Scraping interview 30/60: https://www.thrashermagazine.com/articles/diego-bucchieri/\n",
      "Scraping interview 31/60: https://www.thrashermagazine.com/articles/magazine/darren-navarrette/\n",
      "Scraping interview 32/60: https://www.thrashermagazine.com/articles/magazine/theotis-beasley/\n",
      "Scraping interview 33/60: https://www.thrashermagazine.com/articles/collin-provost/\n",
      "Scraping interview 34/60: https://www.thrashermagazine.com/articles/danny-garcia/\n",
      "Scraping interview 35/60: https://www.thrashermagazine.com/articles/zered-bassett-s-top-threes/\n",
      "Scraping interview 36/60: https://www.thrashermagazine.com/articles/kyle-leeper/\n",
      "Scraping interview 37/60: https://www.thrashermagazine.com/articles/ben-raybourn-interview/\n",
      "Scraping interview 38/60: https://www.thrashermagazine.com/articles/sheldon-s-top-3-s/\n",
      "Scraping interview 39/60: https://www.thrashermagazine.com/articles/chris-cole-interview/\n",
      "Scraping interview 40/60: https://www.thrashermagazine.com/articles/shuriken-shannon/\n",
      "Scraping interview 41/60: https://www.thrashermagazine.com/articles/videos/interview-corey-duffel-part-1/\n",
      "Scraping interview 42/60: https://www.thrashermagazine.com/articles/videos/interview-corey-duffel-part-2/\n",
      "Scraping interview 43/60: https://www.thrashermagazine.com/articles/omar-salazar/\n",
      "Scraping interview 44/60: https://www.thrashermagazine.com/articles/mike-mo-interview/\n",
      "Scraping interview 45/60: https://www.thrashermagazine.com/articles/andy-roy/\n",
      "Scraping interview 46/60: https://www.thrashermagazine.com/articles/alex-olson-interview/\n",
      "Scraping interview 47/60: https://www.thrashermagazine.com/articles/andrew-allen-3-s/\n",
      "Scraping interview 48/60: https://www.thrashermagazine.com/articles/magazine/devin-appelo/\n",
      "Scraping interview 49/60: https://www.thrashermagazine.com/articles/silas-top-3-s/\n",
      "Scraping interview 50/60: https://www.thrashermagazine.com/articles/epicly-trailer-d/\n",
      "Scraping interview 51/60: https://www.thrashermagazine.com/articles/billy-marks-interview/\n",
      "Scraping interview 52/60: https://www.thrashermagazine.com/articles/david-gravette-s-top-3-s/\n",
      "Scraping interview 53/60: https://www.thrashermagazine.com/articles/peabody-interview/\n",
      "Scraping interview 54/60: https://www.thrashermagazine.com/articles/john-rattray/\n",
      "Scraping interview 55/60: https://www.thrashermagazine.com/articles/bobby-worrest/\n",
      "Scraping interview 56/60: https://www.thrashermagazine.com/articles/alex-horn/\n",
      "Scraping interview 57/60: https://www.thrashermagazine.com/articles/chet-childress/\n",
      "Scraping interview 58/60: https://www.thrashermagazine.com/articles/angel-ramirez/\n",
      "Scraping interview 59/60: https://www.thrashermagazine.com/articles/dylan-rieder/\n",
      "Scraping interview 60/60: https://www.thrashermagazine.com/articles/dan-drehobl/\n",
      "Successfully scraped 60 interviews out of 60 links.\n"
     ]
    }
   ],
   "source": [
    "\n",
    "interviews = []  \n",
    "\n",
    "for idx, url in enumerate(interview_links):\n",
    "    try:\n",
    "        print(f\"Scraping interview {idx+1}/{len(interview_links)}: {url}\")\n",
    "        page_response = requests.get(url)\n",
    "        if page_response.status_code != 200:\n",
    "            print(f\"  Skipping {url} due to status code: {page_response.status_code}\")\n",
    "            continue\n",
    "\n",
    "        page_soup = BeautifulSoup(page_response.text, 'html.parser')\n",
    "        \n",
    "        article_div = page_soup.find('div', class_='article-text')\n",
    "        \n",
    "        body_div = article_div.find('div', class_='body-text') if article_div else None\n",
    "        \n",
    "        if body_div:\n",
    "            interview_text = body_div.get_text(separator='\\n', strip=True)\n",
    "            interviews.append(interview_text)\n",
    "        else:\n",
    "            print(f\"  Interview content not found in {url}\")\n",
    "        \n",
    "        time.sleep(1)\n",
    "        \n",
    "    except Exception as e:\n",
    "        print(f\"Error scraping {url}: {e}\")\n",
    "\n",
    "print(f\"Successfully scraped {len(interviews)} interviews out of {len(interview_links)} links.\")\n"
   ]
  },
  {
   "cell_type": "code",
   "execution_count": 16,
   "id": "06a8a0a3-1286-4751-b8bb-6bd7f0f2a982",
   "metadata": {},
   "outputs": [
    {
     "name": "stdout",
     "output_type": "stream",
     "text": [
      "Interviews saved to thrasher_interviews.txt.\n"
     ]
    }
   ],
   "source": [
    "\n",
    "output_filename = \"thrasher_interviews.txt\"\n",
    "\n",
    "with open(output_filename, 'w', encoding='utf-8') as f:\n",
    "    for interview in interviews:\n",
    "        f.write(interview + \"\\n\\n---\\n\\n\")  \n",
    "\n",
    "print(f\"Interviews saved to {output_filename}.\")\n"
   ]
  },
  {
   "cell_type": "code",
   "execution_count": null,
   "id": "f8573886-d001-4340-8761-8980d251987a",
   "metadata": {},
   "outputs": [],
   "source": []
  }
 ],
 "metadata": {
  "kernelspec": {
   "display_name": "Python 3 (ipykernel)",
   "language": "python",
   "name": "python3"
  },
  "language_info": {
   "codemirror_mode": {
    "name": "ipython",
    "version": 3
   },
   "file_extension": ".py",
   "mimetype": "text/x-python",
   "name": "python",
   "nbconvert_exporter": "python",
   "pygments_lexer": "ipython3",
   "version": "3.11.9"
  }
 },
 "nbformat": 4,
 "nbformat_minor": 5
}
